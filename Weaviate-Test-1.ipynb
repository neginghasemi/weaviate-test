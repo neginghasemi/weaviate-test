{
  "nbformat": 4,
  "nbformat_minor": 0,
  "metadata": {
    "colab": {
      "provenance": []
    },
    "kernelspec": {
      "name": "python3",
      "display_name": "Python 3"
    },
    "language_info": {
      "name": "python"
    }
  },
  "cells": [
    {
      "cell_type": "code",
      "execution_count": null,
      "metadata": {
        "id": "a1NPYvzmwpaZ"
      },
      "outputs": [],
      "source": [
        "!pip install --pre -U \"weaviate-client==4.*\""
      ]
    },
    {
      "cell_type": "code",
      "source": [
        "import weaviate\n",
        "from weaviate.auth import AuthApiKey\n",
        "import weaviate.classes.config as wc\n",
        "from weaviate.classes.config import Configure\n",
        "from weaviate.util import generate_uuid5\n",
        "import weaviate.classes.data as wd\n",
        "import weaviate.classes.query as wq\n",
        "\n",
        "import json\n",
        "import os\n",
        "import pandas as pd\n",
        "import csv"
      ],
      "metadata": {
        "id": "8rifTHG2BKT5"
      },
      "execution_count": 2,
      "outputs": []
    },
    {
      "cell_type": "code",
      "source": [
        "# Connecting to WCD, Change the config to connect to your instance\n",
        "WEAVIATE_URL = \"YOUR_WEAVIATE_URL\"\n",
        "API_KEY = \"YOUR_WEAVIATE_API_KEY\"\n",
        "\n",
        "client = weaviate.connect_to_wcs(\n",
        "    cluster_url=WEAVIATE_URL,\n",
        "    auth_credentials=AuthApiKey(API_KEY),\n",
        "    headers={\n",
        "        # You also need an OpenAI key for vectorizing and generation models\n",
        "        \"X-OpenAI-Api-Key\": \"YOUR_OPENAI-API-KEY\",\n",
        "    }\n",
        ")"
      ],
      "metadata": {
        "id": "m4dqkLUJocJa"
      },
      "execution_count": 3,
      "outputs": []
    },
    {
      "cell_type": "code",
      "source": [
        "# Download the dataset from https://www.kaggle.com/datasets/arshkon/linkedin-job-postings\n",
        "postings = pd.read_csv('./postings.csv')"
      ],
      "metadata": {
        "id": "qrtrdAvjOmqf"
      },
      "execution_count": 18,
      "outputs": []
    },
    {
      "cell_type": "code",
      "source": [
        "# let's delete any instance with similar name - just in case.\n",
        "client.collections.delete(\"Postings\")\n",
        "\n",
        "# Create the schema for database - only these features are enough for our demo\n",
        "client.collections.create(\n",
        "    name=\"Postings\",\n",
        "    properties=[\n",
        "        wc.Property(name=\"job_id\", data_type=wc.DataType.NUMBER),\n",
        "        wc.Property(name=\"title\", data_type=wc.DataType.TEXT),\n",
        "        wc.Property(name=\"description\", data_type=wc.DataType.TEXT),\n",
        "        wc.Property(name=\"company_name\", data_type=wc.DataType.TEXT)\n",
        "    ],\n",
        "    # Define the vectorizer module\n",
        "    vectorizer_config=wc.Configure.Vectorizer.text2vec_openai(),\n",
        "    # Define the generative module\n",
        "    generative_config=wc.Configure.Generative.openai()\n",
        ")\n",
        "\n",
        "# If you don't want to test it on a large dataset, uncomment the line below:\n",
        "# postings = postings.head(1000)"
      ],
      "metadata": {
        "colab": {
          "base_uri": "https://localhost:8080/"
        },
        "id": "64VT5zJgT9sQ",
        "outputId": "27ac6779-44f2-4a41-adce-d8e717bf78f7"
      },
      "execution_count": 44,
      "outputs": [
        {
          "output_type": "execute_result",
          "data": {
            "text/plain": [
              "<weaviate.collections.collection.Collection at 0x787c6fd13370>"
            ]
          },
          "metadata": {},
          "execution_count": 44
        }
      ]
    },
    {
      "cell_type": "code",
      "source": [
        "# Adding objects to the dataset\n",
        "postings_collection = client.collections.get(\"Postings\")\n",
        "\n",
        "object_list = list()\n",
        "\n",
        "for index, row in postings.iterrows():\n",
        "    posting_obj = {\n",
        "        \"job_id\": row[\"job_id\"],\n",
        "        \"title\": row[\"title\"],\n",
        "        \"description\": row[\"description\"],\n",
        "        \"company_name\": row[\"company_name\"],\n",
        "    }\n",
        "\n",
        "    wv_obj = wd.DataObject(\n",
        "        properties=posting_obj,\n",
        "        uuid=generate_uuid5(posting_obj)\n",
        "    )\n",
        "    object_list.append(wv_obj)\n",
        "\n",
        "response = postings_collection.data.insert_many(object_list)\n",
        "\n",
        "# Checking if everything was successfully done\n",
        "print(response.has_errors)"
      ],
      "metadata": {
        "id": "f1DcjLF2WMg3"
      },
      "execution_count": 50,
      "outputs": []
    },
    {
      "cell_type": "code",
      "source": [
        "# There are different sorts of search we can use\n",
        "\n",
        "# Simple Filtering\n",
        "response_naive = postings_collection.query.fetch_objects(\n",
        "    filters=wq.Filter.by_property(\"title\").like(\"*machine learning*\"),\n",
        "    limit=5)\n",
        "for o in response.objects:\n",
        "    print(json.dumps(o.properties, indent=2))"
      ],
      "metadata": {
        "colab": {
          "base_uri": "https://localhost:8080/"
        },
        "id": "vWfwAXBenKTX",
        "outputId": "54ed1b9f-e9a5-4b82-e1fe-c2f574303f27"
      },
      "execution_count": 153,
      "outputs": [
        {
          "output_type": "stream",
          "name": "stdout",
          "text": [
            "{\n",
            "  \"description\": \"GigaGen, a subsidiary of Grifols, discovers and develops next-generation recombinant antibody therapeutics. Our core technology utilizes a microfluidic droplet system to capture and immortalize diverse immune repertoires, which can then be mined for exceptional monoclonals or enriched and used as high-potency polyclonal therapeutics. Our preclinical pipeline includes several recombinant polyclonal products for infectious diseases and a monoclonal antibody with a unique mechanism for oncology, which is entering the clinic. We are seeking a talented, highly motivated Research Associate to join the Technology Development team. This team is responsible for inventing, developing, and implementing novel capabilities to further expand our core technology suite. This unique position will focus on early-stage research projects but will also offer exposure to the full drug development process, with ample opportunity to learn new techniques, design experiments, and present your work. Primary responsibilities for the role:General molecular biology assaysDNA construct design and cloningExpression and purification of novel proteins, including antigens and alternative antibody formatsMammalian cell culture, functional assays, and cell line engineeringDeveloping and writing protocols for new methodsCollecting and analyzing data and presenting at internal meetings Knowledge, Skills, and Abilities:Experience with some of the following techniques: PCR, RT-qPCR, mammalian cell culture, flow cytometry, transient transfection, affinity chromatography (FPLC), size-exclusion chromatography (HPLC), ELISA, affinity measurementsAbility to work on multiple projects simultaneouslyCreativity and curiosity, with strong critical thinking and quantitative skillsAbility to communicate effectively within and across teams\\nEducation:Bachelor\\u2019s degree in life sciences or related discipline Experience:At least 1 year of lab experience The estimated pay scale for the Research Associate role based in San Carlos, California is $70,000.00-$85,000.00 per year. Additionally, the position is eligible to participate in the company bonus pool. We offer a wide variety of benefits including, but not limited to: Medical, Dental, Vision, PTO, up to 5% 401(K) match and tuition reimbursement. Final compensation packages will ultimately depend on education, experience, skillset, knowledge, where the role is performed, internal equity and market data. We are committed to offering our employees opportunities for professional growth and career progression. Grifols is a global healthcare organization with employees in 30 countries focused on patient health and providing impactful results. Since our humble beginnings in 1909, Grifols has been a family company that prides itself on its family-like culture. Our company has more than tripled over the last 10 years, and you can grow with us!  Third Party Agency and Recruiter Notice:Agencies that present a candidate to Grifols must have an active, nonexpired, Grifols Agency Master Services Agreement with the Grifols Talent Acquisition Department. Additionally, agencies may only submit candidates to positions that they have been engaged to work on by a Grifols Recruiter. All resumes must be sent to a Grifols Recruiter under these terms or they will be considered a Grifols candidate. Grifols provides equal employment opportunities to applicants and employees without regard to race, color, religion, sex, sexual orientation, gender identity, national origin, protected veteran status, disability or any other characteristic or status protected by law. We will consider for employment all qualified Applicants, including those with Criminal Histories, in a manner consistent with the requirements of applicable state and local laws, including the City of Los Angeles\\u2019 Fair Chance Initiative for Hiring Ordinance.\",\n",
            "  \"title\": \"Research Associate (Molecular Biology & Protein Expression)\",\n",
            "  \"company_name\": \"GigaGen Inc\",\n",
            "  \"job_id\": 3884427334.0\n",
            "}\n",
            "{\n",
            "  \"title\": \"Clinical Pharmacist\",\n",
            "  \"description\": \"Clinical Pharmacist\\nIV League is one of Southern California's most recognized home infusion companies. We work with prominent hospitals, physicians, oncology clinics, M.S. clinics, and surgery centers, providing I.V. and specialty medications for patients in the home or office settings. We currently have a Per-Diem position open in our Culver City office. RECENT GRADUATES ARE HIGHLY ENCOURAGED TO APPLY. WE WILL PROVIDE TRAINING.\\nKey CompetenciesUpholds IV League\\u2019s Policies and Procedures and applicable state, federal and local laws.Is accountable for knowledge of updated clinical skills, knowledge of regulatory changes, and assurance of workplace safety, and a safe and healthy working environment.Verifies, interprets, and reviews prescription medication orders for appropriateness, accuracy, and completeness, with special consideration given to patients with specific disease states and special age groups being served.Oversee the safety, appropriateness, and effectiveness of the pharmaceutical care provided to patients (consumers), as it relates to specialty products dispensed.Assess patient at the initiation of drug therapy, develop a patient care plan and drug-specific monitoring regimen; monitor the patient according to the care plan throughout the course of therapy.Communicate with the patient, physician, nursing staff, other pharmacists, and other members of the health care team regarding patient status, response to therapy and clinical objectives to ensure that clinical outcomes are met.Performs drug conversions and calculations.Exhibits proper use, handling and compounding of both sterile and hazardous medications.Ensure compliance with all FDA, DEA, State Board of Pharmacy, OSHA, and other regulatory standards.Provide oversight of pharmacy technician and pharmacy support staff,Check and verify all medications before they are sent out to be administered.Maintain appropriate logs and cleaning records of biomedical equipment; arrange for preventative maintenance and inspection.Carry out various quality assurance procedures including flow hood cleaning, repairs and inspection, and biological laboratory testing.Assemble supplies and arrange for proper delivery or pickup of home infusion medications and supplies.Maintain the cleanliness of admixture machinery and keep IV room properly stocked.Ability to interact effectively with co-workers and contribute as a team player.Responsible for Other duties as assigned.\\nMinimum QualificationsMust have open, active, and in good standing CA State Pharmacist LicensePhysical Demands:Possible prolonged periods sitting at a desk and working on a computer.Possible prolonged periods of standing and bending in Cleanroom.Must be able to lift up to 15 pounds at times.\",\n",
            "  \"company_name\": \"IV League\",\n",
            "  \"job_id\": 3708944827.0\n",
            "}\n",
            "{\n",
            "  \"title\": \"PeopleSoft FSCM Functional Analyst - GL and KK modules\",\n",
            "  \"description\": \"MNK Infotech Inc is looking for PeopleSoft Functional Analyst for one of our Government clients.\\nLocation: Houston Downtown, TX (Hybrid position)Duration: 6 months+ (Chances of Extension)US Citizens, Green Card holder and EAD Card holders who can work on W2 are eligible to apply. Locals preferred.\\nTop Skills:Hands on experience supporting the PeopleSoft KK (commitment control) and PeopleSoft GL (General ledger) modulesKK using Fluid screens modulesPeopleSoft PUM 48 and PeopleTools 8.60.06\\nJob Description:Requirements:PeopleSoft functional knowledge of General ledger (GL),Commitment Control (CC);ability to write functional specifications;ability to communicate effectively with business and development staff.Experience with reconfiguration of systemExperience working with the flow of accounting transactions and overall interaction between General Ledger, Commitment Control\",\n",
            "  \"job_id\": 3843083239.0,\n",
            "  \"company_name\": \"MNK Infotech\"\n",
            "}\n",
            "{\n",
            "  \"title\": \"Marketing Coordinator\",\n",
            "  \"description\": \"Micro Technology Services Inc. is a leading provider of Duress and Mass Notification systems. The Lynx System is used by healthcare, education, and corporate facilities to deliver critical information to employees, security, or police.We are looking for a marketing coordinator who acts as an individual contributor to join our team and help us create and execute marketing campaigns for the Lynx System. In this role, you will be responsible for developing marketing collateral, creating graphic designs, managing our online presence, and manage the Marketing related relationship with partners and vendors\\nThe ideal candidate will have a strong understanding of marketing principles and be able to think creatively to develop effective marketing campaigns. \\n If you are a creative and motivated individual who is looking for a challenging and rewarding opportunity, we encourage you to apply.\\nResponsibilities:Create professional looking PowerPoint slide decks for the sales teamCreate graphic designs for various marketing materialsWrite marketing material various use and applicationsManage our online presence, including website and social media platformsCreate and manage email and mail campaignsCreate short videos as sales tools and marketing campaignsDevelop and maintain marketing collateral, such as brochures, flyers, and email website landing pagesPlan and manage all Lynx and non-Lynx events for distribution, channel partners, Trade shows and internal sales team.Manage co-marketing projects with partners for brand exposure.Daily interaction with Sales team to assess marketing needsWork with management team to develop strategic marketing plansPerform other duties when assigned\\nEssential Skills\\n\\u00b7 Marketing Portfolio with examples of graphic design and/or marketing copy\\u00b7 Skilled in any design tool like Canva, CorelDRAW, Photoshop, or other graphic system\\u00b7 Ability to organize and prioritize effectively, excellent use of time management. \\u00b7 Event planning experience\\u00b7 Ability to effectively work independently as well as within in a team\\u00b7 Ability to effectively negotiate \\u00b7 Exceptional writing and editing \\n\\nEducation and Experience: \\u00b7 3+ years marketing experience\\u00b7 Prior experience building strong business relationships both internally and externally\\u00b7 Prior experience creating and executing coordinated channel marketing strategies\\u00b7 Prior experience planning events. \\nValued but not required \\u2026\\u00b7 Bachelor\\u2019s Degree in marketing or related field\\u00b7 Channel / B2B marketing knowledge and experience\\u00b7 Experience with CRM and marketing automation\\u00b7 Experience in security and/or surveillance industry\\u00b7 ROI reporting and tracking\\u00b7 Determine method for tracking ROI of marketing initiatives and report findings\\n\\nPhysical Demands:The physical demands and work environment characteristics described here are representative of those that must be met by an employee to successfully perform the essential functions of this job. Reasonable accommodations may be made to enable individuals with disabilities to perform the essential functions.\\n\\u00b7 Employee is occasionally required to lift 20-25 lbs. \\u00b7 Expected travel time for this position is 5%\\nLocation: Richardson, TXType: Full-timeBenefits: Medical Insurance, 401K, 3 weeks PTO per year, 8 paid holidays, Hybrid Work from home policiesPlease submit resumes to job@mitsi.com No Walk-ins or Phone Calls\",\n",
            "  \"job_id\": 2974397965.0,\n",
            "  \"company_name\": \"Lynx Systems\"\n",
            "}\n",
            "{\n",
            "  \"title\": \"Field Director\",\n",
            "  \"description\": \"The OrganizationMi Familia Vota (MFV) is the Latino led organization with the largest field operation in the nation that uses a holistic approach to building political power. We are located in 8 strategic states AZ, CA, CO, GA, FL, NV, TX, & NC and engage our community around the most prevalent issues to ensure the construction of a healthy democracy and the advancement of a national Latino progressive agenda. MFV utilizes a variety of strategies to reach our community including citizenship, door to door voter education, registration and mobilization, issue organizing as well as leadership development, advocacy, accountability campaigns and litigation.Mi Familia Vota is a 501(c)(4) organization and Mi Familia Vota en Acci\\u00f3n is a 501(c)(3) organization.SUMMARY: The Mi Familia Vota Field Director will oversee robust statewide field operations. This role will support on-the-ground efforts through site coordination and in-office and field training. The Field Director will lead on overall program alignment, team-building, and campaign coordination statewide. By supporting a field team to conduct regular visits to partner offices and the field, run regular field reports, and lead weekly calls with groups, the Field Director coordinates the overall structure that supports groups to implement best practices and meet 2024 program goals. The position is full-time and reports to the State Director, and works in coordination with national departments. This role will terminate after the Presidential election on November 15th, 2024 (other employment opportunities within MFV may exist at that time).DUTIES AND RESPONSIBILITIES:Oversee and drive statewide voter registration, persuasion and get out the vote programsOversee and drive internal organizing plans for meeting statewide goals via direct voter contact and integration with digital tools).Build relationships with partners and facilitate conflict resolution as needed.Manage a statewide team of canvassers, quality control, and voter registration leads in their work to support the field programs.Provide and coordinate general capacity-building support for staff as needed, including but not limited to Google Suite training, management training, and other organizational tools.Provide on-site and in-person training on all programmatic aspects, including but not limited to field training, field planning, HR, and tools.Lead on holding groups accountable for addressing and resolving problems with quality control that come up in the phone/visual verification process.Through weekly group virtual or in person meetings, drive progress-to-goal and quality controlCompile results of verification efforts and analysis of data points into regular reports indicating programmatic trends, best practices, and recommendations for improvement.Administer turf coordination system and bring a solutions orientation to any turf-related conflicts.Conduct regular site visits with groups to provide timely support, feedback, and course correction as needed.Lead on all registration deadline procedures, including but not limited to training groups on program adjustments and processes in preparation for deadlines.Travel as needed, sometimes on short notice.Serve as point-person for crisis response in the state.\\nQUALIFICATIONS: The ideal candidate will possess:Problem solving attitude to ongoing challenges.A solid commitment to the civic engagement of historically underrepresented communities.Excellent interpersonal and leadership skills; successful at motivating staff to meet recruitment and voter contact goalsMinimum 2-3 years experience in campaign/community organizing, including but not limited to the following roles: field director, field manager, regional organizing director, canvass director, and campaign manager.Attention to detail and ability to develop efficient systems to deliver intended results.Strong interpersonal communication skills in person, on the phone, and in writing.A strong commitment to racial equity and social justiceAbility to work diplomatically in a coalition setting, delivering results from diverse stakeholders that the position does not directly oversee.Ability to work independently and manage multiple projects at once.Ability to work well under pressure, resolve conflicts, and meet deadlines.Ability to work some weekends and eveningsAccess to a vehicle and willingness to drive long distancesVAN or Blocks experience, in particular, creating lists, cutting turf, and training other usersBilingual proficiency in Spanish and EnglishKnowledge of state structures of the progressive infrastructure and coalition partnersMicrosoft Excel, Word, Google Docs, and Google Sheets with an ability to learn online database platforms and general comfort with tools.Excellent written and verbal communication skills\",\n",
            "  \"company_name\": \"Mi Familia Vota\",\n",
            "  \"job_id\": 3609090859.0\n",
            "}\n"
          ]
        }
      ]
    },
    {
      "cell_type": "code",
      "source": [
        "# BM25 Search\n",
        "response_bm25 = postings_collection.query.bm25(\n",
        "    query=\"machine learning\",\n",
        "    limit=5)\n",
        "for o in response.objects:\n",
        "    print(json.dumps(o.properties, indent=2))"
      ],
      "metadata": {
        "colab": {
          "base_uri": "https://localhost:8080/"
        },
        "id": "eO99HtYlvngJ",
        "outputId": "1471e59b-d67e-46f9-c8eb-cd504d524407"
      },
      "execution_count": 154,
      "outputs": [
        {
          "output_type": "stream",
          "name": "stdout",
          "text": [
            "{\n",
            "  \"description\": \"GigaGen, a subsidiary of Grifols, discovers and develops next-generation recombinant antibody therapeutics. Our core technology utilizes a microfluidic droplet system to capture and immortalize diverse immune repertoires, which can then be mined for exceptional monoclonals or enriched and used as high-potency polyclonal therapeutics. Our preclinical pipeline includes several recombinant polyclonal products for infectious diseases and a monoclonal antibody with a unique mechanism for oncology, which is entering the clinic. We are seeking a talented, highly motivated Research Associate to join the Technology Development team. This team is responsible for inventing, developing, and implementing novel capabilities to further expand our core technology suite. This unique position will focus on early-stage research projects but will also offer exposure to the full drug development process, with ample opportunity to learn new techniques, design experiments, and present your work. Primary responsibilities for the role:General molecular biology assaysDNA construct design and cloningExpression and purification of novel proteins, including antigens and alternative antibody formatsMammalian cell culture, functional assays, and cell line engineeringDeveloping and writing protocols for new methodsCollecting and analyzing data and presenting at internal meetings Knowledge, Skills, and Abilities:Experience with some of the following techniques: PCR, RT-qPCR, mammalian cell culture, flow cytometry, transient transfection, affinity chromatography (FPLC), size-exclusion chromatography (HPLC), ELISA, affinity measurementsAbility to work on multiple projects simultaneouslyCreativity and curiosity, with strong critical thinking and quantitative skillsAbility to communicate effectively within and across teams\\nEducation:Bachelor\\u2019s degree in life sciences or related discipline Experience:At least 1 year of lab experience The estimated pay scale for the Research Associate role based in San Carlos, California is $70,000.00-$85,000.00 per year. Additionally, the position is eligible to participate in the company bonus pool. We offer a wide variety of benefits including, but not limited to: Medical, Dental, Vision, PTO, up to 5% 401(K) match and tuition reimbursement. Final compensation packages will ultimately depend on education, experience, skillset, knowledge, where the role is performed, internal equity and market data. We are committed to offering our employees opportunities for professional growth and career progression. Grifols is a global healthcare organization with employees in 30 countries focused on patient health and providing impactful results. Since our humble beginnings in 1909, Grifols has been a family company that prides itself on its family-like culture. Our company has more than tripled over the last 10 years, and you can grow with us!  Third Party Agency and Recruiter Notice:Agencies that present a candidate to Grifols must have an active, nonexpired, Grifols Agency Master Services Agreement with the Grifols Talent Acquisition Department. Additionally, agencies may only submit candidates to positions that they have been engaged to work on by a Grifols Recruiter. All resumes must be sent to a Grifols Recruiter under these terms or they will be considered a Grifols candidate. Grifols provides equal employment opportunities to applicants and employees without regard to race, color, religion, sex, sexual orientation, gender identity, national origin, protected veteran status, disability or any other characteristic or status protected by law. We will consider for employment all qualified Applicants, including those with Criminal Histories, in a manner consistent with the requirements of applicable state and local laws, including the City of Los Angeles\\u2019 Fair Chance Initiative for Hiring Ordinance.\",\n",
            "  \"title\": \"Research Associate (Molecular Biology & Protein Expression)\",\n",
            "  \"company_name\": \"GigaGen Inc\",\n",
            "  \"job_id\": 3884427334.0\n",
            "}\n",
            "{\n",
            "  \"title\": \"Clinical Pharmacist\",\n",
            "  \"description\": \"Clinical Pharmacist\\nIV League is one of Southern California's most recognized home infusion companies. We work with prominent hospitals, physicians, oncology clinics, M.S. clinics, and surgery centers, providing I.V. and specialty medications for patients in the home or office settings. We currently have a Per-Diem position open in our Culver City office. RECENT GRADUATES ARE HIGHLY ENCOURAGED TO APPLY. WE WILL PROVIDE TRAINING.\\nKey CompetenciesUpholds IV League\\u2019s Policies and Procedures and applicable state, federal and local laws.Is accountable for knowledge of updated clinical skills, knowledge of regulatory changes, and assurance of workplace safety, and a safe and healthy working environment.Verifies, interprets, and reviews prescription medication orders for appropriateness, accuracy, and completeness, with special consideration given to patients with specific disease states and special age groups being served.Oversee the safety, appropriateness, and effectiveness of the pharmaceutical care provided to patients (consumers), as it relates to specialty products dispensed.Assess patient at the initiation of drug therapy, develop a patient care plan and drug-specific monitoring regimen; monitor the patient according to the care plan throughout the course of therapy.Communicate with the patient, physician, nursing staff, other pharmacists, and other members of the health care team regarding patient status, response to therapy and clinical objectives to ensure that clinical outcomes are met.Performs drug conversions and calculations.Exhibits proper use, handling and compounding of both sterile and hazardous medications.Ensure compliance with all FDA, DEA, State Board of Pharmacy, OSHA, and other regulatory standards.Provide oversight of pharmacy technician and pharmacy support staff,Check and verify all medications before they are sent out to be administered.Maintain appropriate logs and cleaning records of biomedical equipment; arrange for preventative maintenance and inspection.Carry out various quality assurance procedures including flow hood cleaning, repairs and inspection, and biological laboratory testing.Assemble supplies and arrange for proper delivery or pickup of home infusion medications and supplies.Maintain the cleanliness of admixture machinery and keep IV room properly stocked.Ability to interact effectively with co-workers and contribute as a team player.Responsible for Other duties as assigned.\\nMinimum QualificationsMust have open, active, and in good standing CA State Pharmacist LicensePhysical Demands:Possible prolonged periods sitting at a desk and working on a computer.Possible prolonged periods of standing and bending in Cleanroom.Must be able to lift up to 15 pounds at times.\",\n",
            "  \"company_name\": \"IV League\",\n",
            "  \"job_id\": 3708944827.0\n",
            "}\n",
            "{\n",
            "  \"title\": \"PeopleSoft FSCM Functional Analyst - GL and KK modules\",\n",
            "  \"description\": \"MNK Infotech Inc is looking for PeopleSoft Functional Analyst for one of our Government clients.\\nLocation: Houston Downtown, TX (Hybrid position)Duration: 6 months+ (Chances of Extension)US Citizens, Green Card holder and EAD Card holders who can work on W2 are eligible to apply. Locals preferred.\\nTop Skills:Hands on experience supporting the PeopleSoft KK (commitment control) and PeopleSoft GL (General ledger) modulesKK using Fluid screens modulesPeopleSoft PUM 48 and PeopleTools 8.60.06\\nJob Description:Requirements:PeopleSoft functional knowledge of General ledger (GL),Commitment Control (CC);ability to write functional specifications;ability to communicate effectively with business and development staff.Experience with reconfiguration of systemExperience working with the flow of accounting transactions and overall interaction between General Ledger, Commitment Control\",\n",
            "  \"job_id\": 3843083239.0,\n",
            "  \"company_name\": \"MNK Infotech\"\n",
            "}\n",
            "{\n",
            "  \"title\": \"Marketing Coordinator\",\n",
            "  \"description\": \"Micro Technology Services Inc. is a leading provider of Duress and Mass Notification systems. The Lynx System is used by healthcare, education, and corporate facilities to deliver critical information to employees, security, or police.We are looking for a marketing coordinator who acts as an individual contributor to join our team and help us create and execute marketing campaigns for the Lynx System. In this role, you will be responsible for developing marketing collateral, creating graphic designs, managing our online presence, and manage the Marketing related relationship with partners and vendors\\nThe ideal candidate will have a strong understanding of marketing principles and be able to think creatively to develop effective marketing campaigns. \\n If you are a creative and motivated individual who is looking for a challenging and rewarding opportunity, we encourage you to apply.\\nResponsibilities:Create professional looking PowerPoint slide decks for the sales teamCreate graphic designs for various marketing materialsWrite marketing material various use and applicationsManage our online presence, including website and social media platformsCreate and manage email and mail campaignsCreate short videos as sales tools and marketing campaignsDevelop and maintain marketing collateral, such as brochures, flyers, and email website landing pagesPlan and manage all Lynx and non-Lynx events for distribution, channel partners, Trade shows and internal sales team.Manage co-marketing projects with partners for brand exposure.Daily interaction with Sales team to assess marketing needsWork with management team to develop strategic marketing plansPerform other duties when assigned\\nEssential Skills\\n\\u00b7 Marketing Portfolio with examples of graphic design and/or marketing copy\\u00b7 Skilled in any design tool like Canva, CorelDRAW, Photoshop, or other graphic system\\u00b7 Ability to organize and prioritize effectively, excellent use of time management. \\u00b7 Event planning experience\\u00b7 Ability to effectively work independently as well as within in a team\\u00b7 Ability to effectively negotiate \\u00b7 Exceptional writing and editing \\n\\nEducation and Experience: \\u00b7 3+ years marketing experience\\u00b7 Prior experience building strong business relationships both internally and externally\\u00b7 Prior experience creating and executing coordinated channel marketing strategies\\u00b7 Prior experience planning events. \\nValued but not required \\u2026\\u00b7 Bachelor\\u2019s Degree in marketing or related field\\u00b7 Channel / B2B marketing knowledge and experience\\u00b7 Experience with CRM and marketing automation\\u00b7 Experience in security and/or surveillance industry\\u00b7 ROI reporting and tracking\\u00b7 Determine method for tracking ROI of marketing initiatives and report findings\\n\\nPhysical Demands:The physical demands and work environment characteristics described here are representative of those that must be met by an employee to successfully perform the essential functions of this job. Reasonable accommodations may be made to enable individuals with disabilities to perform the essential functions.\\n\\u00b7 Employee is occasionally required to lift 20-25 lbs. \\u00b7 Expected travel time for this position is 5%\\nLocation: Richardson, TXType: Full-timeBenefits: Medical Insurance, 401K, 3 weeks PTO per year, 8 paid holidays, Hybrid Work from home policiesPlease submit resumes to job@mitsi.com No Walk-ins or Phone Calls\",\n",
            "  \"job_id\": 2974397965.0,\n",
            "  \"company_name\": \"Lynx Systems\"\n",
            "}\n",
            "{\n",
            "  \"title\": \"Field Director\",\n",
            "  \"description\": \"The OrganizationMi Familia Vota (MFV) is the Latino led organization with the largest field operation in the nation that uses a holistic approach to building political power. We are located in 8 strategic states AZ, CA, CO, GA, FL, NV, TX, & NC and engage our community around the most prevalent issues to ensure the construction of a healthy democracy and the advancement of a national Latino progressive agenda. MFV utilizes a variety of strategies to reach our community including citizenship, door to door voter education, registration and mobilization, issue organizing as well as leadership development, advocacy, accountability campaigns and litigation.Mi Familia Vota is a 501(c)(4) organization and Mi Familia Vota en Acci\\u00f3n is a 501(c)(3) organization.SUMMARY: The Mi Familia Vota Field Director will oversee robust statewide field operations. This role will support on-the-ground efforts through site coordination and in-office and field training. The Field Director will lead on overall program alignment, team-building, and campaign coordination statewide. By supporting a field team to conduct regular visits to partner offices and the field, run regular field reports, and lead weekly calls with groups, the Field Director coordinates the overall structure that supports groups to implement best practices and meet 2024 program goals. The position is full-time and reports to the State Director, and works in coordination with national departments. This role will terminate after the Presidential election on November 15th, 2024 (other employment opportunities within MFV may exist at that time).DUTIES AND RESPONSIBILITIES:Oversee and drive statewide voter registration, persuasion and get out the vote programsOversee and drive internal organizing plans for meeting statewide goals via direct voter contact and integration with digital tools).Build relationships with partners and facilitate conflict resolution as needed.Manage a statewide team of canvassers, quality control, and voter registration leads in their work to support the field programs.Provide and coordinate general capacity-building support for staff as needed, including but not limited to Google Suite training, management training, and other organizational tools.Provide on-site and in-person training on all programmatic aspects, including but not limited to field training, field planning, HR, and tools.Lead on holding groups accountable for addressing and resolving problems with quality control that come up in the phone/visual verification process.Through weekly group virtual or in person meetings, drive progress-to-goal and quality controlCompile results of verification efforts and analysis of data points into regular reports indicating programmatic trends, best practices, and recommendations for improvement.Administer turf coordination system and bring a solutions orientation to any turf-related conflicts.Conduct regular site visits with groups to provide timely support, feedback, and course correction as needed.Lead on all registration deadline procedures, including but not limited to training groups on program adjustments and processes in preparation for deadlines.Travel as needed, sometimes on short notice.Serve as point-person for crisis response in the state.\\nQUALIFICATIONS: The ideal candidate will possess:Problem solving attitude to ongoing challenges.A solid commitment to the civic engagement of historically underrepresented communities.Excellent interpersonal and leadership skills; successful at motivating staff to meet recruitment and voter contact goalsMinimum 2-3 years experience in campaign/community organizing, including but not limited to the following roles: field director, field manager, regional organizing director, canvass director, and campaign manager.Attention to detail and ability to develop efficient systems to deliver intended results.Strong interpersonal communication skills in person, on the phone, and in writing.A strong commitment to racial equity and social justiceAbility to work diplomatically in a coalition setting, delivering results from diverse stakeholders that the position does not directly oversee.Ability to work independently and manage multiple projects at once.Ability to work well under pressure, resolve conflicts, and meet deadlines.Ability to work some weekends and eveningsAccess to a vehicle and willingness to drive long distancesVAN or Blocks experience, in particular, creating lists, cutting turf, and training other usersBilingual proficiency in Spanish and EnglishKnowledge of state structures of the progressive infrastructure and coalition partnersMicrosoft Excel, Word, Google Docs, and Google Sheets with an ability to learn online database platforms and general comfort with tools.Excellent written and verbal communication skills\",\n",
            "  \"company_name\": \"Mi Familia Vota\",\n",
            "  \"job_id\": 3609090859.0\n",
            "}\n"
          ]
        }
      ]
    },
    {
      "cell_type": "code",
      "source": [
        "# Semantic search\n",
        "response_semantic = postings_collection.query.near_text(\n",
        "    query=\"machine learning\",\n",
        "    limit=5)\n",
        "for o in response.objects:\n",
        "    print(json.dumps(o.properties, indent=2))"
      ],
      "metadata": {
        "colab": {
          "base_uri": "https://localhost:8080/"
        },
        "id": "9Zz9Qx2wwCZ8",
        "outputId": "5e1269ce-81b6-42ac-eb77-a6e9ce5556e3"
      },
      "execution_count": 155,
      "outputs": [
        {
          "output_type": "stream",
          "name": "stdout",
          "text": [
            "{\n",
            "  \"description\": \"GigaGen, a subsidiary of Grifols, discovers and develops next-generation recombinant antibody therapeutics. Our core technology utilizes a microfluidic droplet system to capture and immortalize diverse immune repertoires, which can then be mined for exceptional monoclonals or enriched and used as high-potency polyclonal therapeutics. Our preclinical pipeline includes several recombinant polyclonal products for infectious diseases and a monoclonal antibody with a unique mechanism for oncology, which is entering the clinic. We are seeking a talented, highly motivated Research Associate to join the Technology Development team. This team is responsible for inventing, developing, and implementing novel capabilities to further expand our core technology suite. This unique position will focus on early-stage research projects but will also offer exposure to the full drug development process, with ample opportunity to learn new techniques, design experiments, and present your work. Primary responsibilities for the role:General molecular biology assaysDNA construct design and cloningExpression and purification of novel proteins, including antigens and alternative antibody formatsMammalian cell culture, functional assays, and cell line engineeringDeveloping and writing protocols for new methodsCollecting and analyzing data and presenting at internal meetings Knowledge, Skills, and Abilities:Experience with some of the following techniques: PCR, RT-qPCR, mammalian cell culture, flow cytometry, transient transfection, affinity chromatography (FPLC), size-exclusion chromatography (HPLC), ELISA, affinity measurementsAbility to work on multiple projects simultaneouslyCreativity and curiosity, with strong critical thinking and quantitative skillsAbility to communicate effectively within and across teams\\nEducation:Bachelor\\u2019s degree in life sciences or related discipline Experience:At least 1 year of lab experience The estimated pay scale for the Research Associate role based in San Carlos, California is $70,000.00-$85,000.00 per year. Additionally, the position is eligible to participate in the company bonus pool. We offer a wide variety of benefits including, but not limited to: Medical, Dental, Vision, PTO, up to 5% 401(K) match and tuition reimbursement. Final compensation packages will ultimately depend on education, experience, skillset, knowledge, where the role is performed, internal equity and market data. We are committed to offering our employees opportunities for professional growth and career progression. Grifols is a global healthcare organization with employees in 30 countries focused on patient health and providing impactful results. Since our humble beginnings in 1909, Grifols has been a family company that prides itself on its family-like culture. Our company has more than tripled over the last 10 years, and you can grow with us!  Third Party Agency and Recruiter Notice:Agencies that present a candidate to Grifols must have an active, nonexpired, Grifols Agency Master Services Agreement with the Grifols Talent Acquisition Department. Additionally, agencies may only submit candidates to positions that they have been engaged to work on by a Grifols Recruiter. All resumes must be sent to a Grifols Recruiter under these terms or they will be considered a Grifols candidate. Grifols provides equal employment opportunities to applicants and employees without regard to race, color, religion, sex, sexual orientation, gender identity, national origin, protected veteran status, disability or any other characteristic or status protected by law. We will consider for employment all qualified Applicants, including those with Criminal Histories, in a manner consistent with the requirements of applicable state and local laws, including the City of Los Angeles\\u2019 Fair Chance Initiative for Hiring Ordinance.\",\n",
            "  \"title\": \"Research Associate (Molecular Biology & Protein Expression)\",\n",
            "  \"company_name\": \"GigaGen Inc\",\n",
            "  \"job_id\": 3884427334.0\n",
            "}\n",
            "{\n",
            "  \"title\": \"Clinical Pharmacist\",\n",
            "  \"description\": \"Clinical Pharmacist\\nIV League is one of Southern California's most recognized home infusion companies. We work with prominent hospitals, physicians, oncology clinics, M.S. clinics, and surgery centers, providing I.V. and specialty medications for patients in the home or office settings. We currently have a Per-Diem position open in our Culver City office. RECENT GRADUATES ARE HIGHLY ENCOURAGED TO APPLY. WE WILL PROVIDE TRAINING.\\nKey CompetenciesUpholds IV League\\u2019s Policies and Procedures and applicable state, federal and local laws.Is accountable for knowledge of updated clinical skills, knowledge of regulatory changes, and assurance of workplace safety, and a safe and healthy working environment.Verifies, interprets, and reviews prescription medication orders for appropriateness, accuracy, and completeness, with special consideration given to patients with specific disease states and special age groups being served.Oversee the safety, appropriateness, and effectiveness of the pharmaceutical care provided to patients (consumers), as it relates to specialty products dispensed.Assess patient at the initiation of drug therapy, develop a patient care plan and drug-specific monitoring regimen; monitor the patient according to the care plan throughout the course of therapy.Communicate with the patient, physician, nursing staff, other pharmacists, and other members of the health care team regarding patient status, response to therapy and clinical objectives to ensure that clinical outcomes are met.Performs drug conversions and calculations.Exhibits proper use, handling and compounding of both sterile and hazardous medications.Ensure compliance with all FDA, DEA, State Board of Pharmacy, OSHA, and other regulatory standards.Provide oversight of pharmacy technician and pharmacy support staff,Check and verify all medications before they are sent out to be administered.Maintain appropriate logs and cleaning records of biomedical equipment; arrange for preventative maintenance and inspection.Carry out various quality assurance procedures including flow hood cleaning, repairs and inspection, and biological laboratory testing.Assemble supplies and arrange for proper delivery or pickup of home infusion medications and supplies.Maintain the cleanliness of admixture machinery and keep IV room properly stocked.Ability to interact effectively with co-workers and contribute as a team player.Responsible for Other duties as assigned.\\nMinimum QualificationsMust have open, active, and in good standing CA State Pharmacist LicensePhysical Demands:Possible prolonged periods sitting at a desk and working on a computer.Possible prolonged periods of standing and bending in Cleanroom.Must be able to lift up to 15 pounds at times.\",\n",
            "  \"company_name\": \"IV League\",\n",
            "  \"job_id\": 3708944827.0\n",
            "}\n",
            "{\n",
            "  \"title\": \"PeopleSoft FSCM Functional Analyst - GL and KK modules\",\n",
            "  \"description\": \"MNK Infotech Inc is looking for PeopleSoft Functional Analyst for one of our Government clients.\\nLocation: Houston Downtown, TX (Hybrid position)Duration: 6 months+ (Chances of Extension)US Citizens, Green Card holder and EAD Card holders who can work on W2 are eligible to apply. Locals preferred.\\nTop Skills:Hands on experience supporting the PeopleSoft KK (commitment control) and PeopleSoft GL (General ledger) modulesKK using Fluid screens modulesPeopleSoft PUM 48 and PeopleTools 8.60.06\\nJob Description:Requirements:PeopleSoft functional knowledge of General ledger (GL),Commitment Control (CC);ability to write functional specifications;ability to communicate effectively with business and development staff.Experience with reconfiguration of systemExperience working with the flow of accounting transactions and overall interaction between General Ledger, Commitment Control\",\n",
            "  \"job_id\": 3843083239.0,\n",
            "  \"company_name\": \"MNK Infotech\"\n",
            "}\n",
            "{\n",
            "  \"title\": \"Marketing Coordinator\",\n",
            "  \"description\": \"Micro Technology Services Inc. is a leading provider of Duress and Mass Notification systems. The Lynx System is used by healthcare, education, and corporate facilities to deliver critical information to employees, security, or police.We are looking for a marketing coordinator who acts as an individual contributor to join our team and help us create and execute marketing campaigns for the Lynx System. In this role, you will be responsible for developing marketing collateral, creating graphic designs, managing our online presence, and manage the Marketing related relationship with partners and vendors\\nThe ideal candidate will have a strong understanding of marketing principles and be able to think creatively to develop effective marketing campaigns. \\n If you are a creative and motivated individual who is looking for a challenging and rewarding opportunity, we encourage you to apply.\\nResponsibilities:Create professional looking PowerPoint slide decks for the sales teamCreate graphic designs for various marketing materialsWrite marketing material various use and applicationsManage our online presence, including website and social media platformsCreate and manage email and mail campaignsCreate short videos as sales tools and marketing campaignsDevelop and maintain marketing collateral, such as brochures, flyers, and email website landing pagesPlan and manage all Lynx and non-Lynx events for distribution, channel partners, Trade shows and internal sales team.Manage co-marketing projects with partners for brand exposure.Daily interaction with Sales team to assess marketing needsWork with management team to develop strategic marketing plansPerform other duties when assigned\\nEssential Skills\\n\\u00b7 Marketing Portfolio with examples of graphic design and/or marketing copy\\u00b7 Skilled in any design tool like Canva, CorelDRAW, Photoshop, or other graphic system\\u00b7 Ability to organize and prioritize effectively, excellent use of time management. \\u00b7 Event planning experience\\u00b7 Ability to effectively work independently as well as within in a team\\u00b7 Ability to effectively negotiate \\u00b7 Exceptional writing and editing \\n\\nEducation and Experience: \\u00b7 3+ years marketing experience\\u00b7 Prior experience building strong business relationships both internally and externally\\u00b7 Prior experience creating and executing coordinated channel marketing strategies\\u00b7 Prior experience planning events. \\nValued but not required \\u2026\\u00b7 Bachelor\\u2019s Degree in marketing or related field\\u00b7 Channel / B2B marketing knowledge and experience\\u00b7 Experience with CRM and marketing automation\\u00b7 Experience in security and/or surveillance industry\\u00b7 ROI reporting and tracking\\u00b7 Determine method for tracking ROI of marketing initiatives and report findings\\n\\nPhysical Demands:The physical demands and work environment characteristics described here are representative of those that must be met by an employee to successfully perform the essential functions of this job. Reasonable accommodations may be made to enable individuals with disabilities to perform the essential functions.\\n\\u00b7 Employee is occasionally required to lift 20-25 lbs. \\u00b7 Expected travel time for this position is 5%\\nLocation: Richardson, TXType: Full-timeBenefits: Medical Insurance, 401K, 3 weeks PTO per year, 8 paid holidays, Hybrid Work from home policiesPlease submit resumes to job@mitsi.com No Walk-ins or Phone Calls\",\n",
            "  \"job_id\": 2974397965.0,\n",
            "  \"company_name\": \"Lynx Systems\"\n",
            "}\n",
            "{\n",
            "  \"title\": \"Field Director\",\n",
            "  \"description\": \"The OrganizationMi Familia Vota (MFV) is the Latino led organization with the largest field operation in the nation that uses a holistic approach to building political power. We are located in 8 strategic states AZ, CA, CO, GA, FL, NV, TX, & NC and engage our community around the most prevalent issues to ensure the construction of a healthy democracy and the advancement of a national Latino progressive agenda. MFV utilizes a variety of strategies to reach our community including citizenship, door to door voter education, registration and mobilization, issue organizing as well as leadership development, advocacy, accountability campaigns and litigation.Mi Familia Vota is a 501(c)(4) organization and Mi Familia Vota en Acci\\u00f3n is a 501(c)(3) organization.SUMMARY: The Mi Familia Vota Field Director will oversee robust statewide field operations. This role will support on-the-ground efforts through site coordination and in-office and field training. The Field Director will lead on overall program alignment, team-building, and campaign coordination statewide. By supporting a field team to conduct regular visits to partner offices and the field, run regular field reports, and lead weekly calls with groups, the Field Director coordinates the overall structure that supports groups to implement best practices and meet 2024 program goals. The position is full-time and reports to the State Director, and works in coordination with national departments. This role will terminate after the Presidential election on November 15th, 2024 (other employment opportunities within MFV may exist at that time).DUTIES AND RESPONSIBILITIES:Oversee and drive statewide voter registration, persuasion and get out the vote programsOversee and drive internal organizing plans for meeting statewide goals via direct voter contact and integration with digital tools).Build relationships with partners and facilitate conflict resolution as needed.Manage a statewide team of canvassers, quality control, and voter registration leads in their work to support the field programs.Provide and coordinate general capacity-building support for staff as needed, including but not limited to Google Suite training, management training, and other organizational tools.Provide on-site and in-person training on all programmatic aspects, including but not limited to field training, field planning, HR, and tools.Lead on holding groups accountable for addressing and resolving problems with quality control that come up in the phone/visual verification process.Through weekly group virtual or in person meetings, drive progress-to-goal and quality controlCompile results of verification efforts and analysis of data points into regular reports indicating programmatic trends, best practices, and recommendations for improvement.Administer turf coordination system and bring a solutions orientation to any turf-related conflicts.Conduct regular site visits with groups to provide timely support, feedback, and course correction as needed.Lead on all registration deadline procedures, including but not limited to training groups on program adjustments and processes in preparation for deadlines.Travel as needed, sometimes on short notice.Serve as point-person for crisis response in the state.\\nQUALIFICATIONS: The ideal candidate will possess:Problem solving attitude to ongoing challenges.A solid commitment to the civic engagement of historically underrepresented communities.Excellent interpersonal and leadership skills; successful at motivating staff to meet recruitment and voter contact goalsMinimum 2-3 years experience in campaign/community organizing, including but not limited to the following roles: field director, field manager, regional organizing director, canvass director, and campaign manager.Attention to detail and ability to develop efficient systems to deliver intended results.Strong interpersonal communication skills in person, on the phone, and in writing.A strong commitment to racial equity and social justiceAbility to work diplomatically in a coalition setting, delivering results from diverse stakeholders that the position does not directly oversee.Ability to work independently and manage multiple projects at once.Ability to work well under pressure, resolve conflicts, and meet deadlines.Ability to work some weekends and eveningsAccess to a vehicle and willingness to drive long distancesVAN or Blocks experience, in particular, creating lists, cutting turf, and training other usersBilingual proficiency in Spanish and EnglishKnowledge of state structures of the progressive infrastructure and coalition partnersMicrosoft Excel, Word, Google Docs, and Google Sheets with an ability to learn online database platforms and general comfort with tools.Excellent written and verbal communication skills\",\n",
            "  \"company_name\": \"Mi Familia Vota\",\n",
            "  \"job_id\": 3609090859.0\n",
            "}\n"
          ]
        }
      ]
    },
    {
      "cell_type": "code",
      "source": [
        "# Generative Search, the prompts will generate skills that are needed for each posting and for the whole search\n",
        "# This is the model that I used in the visualized project\n",
        "# See: https://weaviate.netlify.app\n",
        "response = postings_collection.generate.near_text(\n",
        "    query=\"machine learning\",\n",
        "    limit=5,\n",
        "    single_prompt=\"Write Three skills (separated by comma, maximum 4 words) that are needed in the job {description}.\",\n",
        "    grouped_task=\"write most common needed skills, separated by comma, maximum 5 skills.\"\n",
        ")\n",
        "\n",
        "print(response.generated)\n",
        "for o in response.objects:\n",
        "    print(o.generated)\n",
        "    print(json.dumps(o.properties, indent=2))"
      ],
      "metadata": {
        "colab": {
          "base_uri": "https://localhost:8080/"
        },
        "id": "Vu8RKovswp8f",
        "outputId": "b8bbc31c-3a53-4886-fffd-5d23111c55be"
      },
      "execution_count": 156,
      "outputs": [
        {
          "output_type": "stream",
          "name": "stdout",
          "text": [
            "Python, AI/ML, Neural Networks, NLP, Cloud Environment\n",
            "Python programming, AI/ML algorithms, NLP techniques\n",
            "{\n",
            "  \"title\": \"Machine Learning Engineer\",\n",
            "  \"description\": \"Job Title: Python AI/ MLType: FulltimeLocation: Dallas, TX Python/AI-ML:Hands on experience with Python, Streamlit, Fastapi (minimum 2+ max 6 years)Hands on experience in developing neural networks using Tensorflow or Pytorch frameworkHands on experience with NLP (NLTK, Spacy, BERT, SBERT models)Hands on experience with vector database (Milvus, FAISS, Pinecone, Vespa, Chroma etc.,)Good understanding on LLMs, Gen AI, Langchain, transformersExperience working and deploying in cloud environment will be added advantage (Google Cloud, AWS, Azure)Willing to learn and adapt to the advancements in the Gen AI technology and work on POCs\",\n",
            "  \"company_name\": \"NLB Services\",\n",
            "  \"job_id\": 3871631334.0\n",
            "}\n",
            "Programming skills, Machine learning expertise, Natural language processing\n",
            "{\n",
            "  \"title\": \"Artificial Intelligence Engineer Intern - Chatbot\",\n",
            "  \"description\": \"Company DescriptionOTB English offers business English classes and presentation workshops with a team of American language coaches. Our aim is to give students confidence and natural language to perform in the most crucial of business situations. We provide a dynamic learning environment that pushes our students to achieve greatness in English.\\nRole DescriptionThis is a remote unpaid internship role for an Artificial Intelligence Engineer specializing in voice-activated chatbot development. The AI Engineer will be responsible for creating and implementing models for natural language processing (NLP) systems with a specific focus on voice recognition. The role involves software development, working extensively with neural networks, and close collaboration with other team members.\\nQualificationsStrong understanding of computer science and software developmentExperience working with neural networks to develop NLP systemsExperience in working with voice recognition and voice synthesis projectsExpertise in pattern recognition and machine learning algorithmsRecent Computer Science or related field students (or current graduates) are preferred\\nRelevant Skills:\\nStrong programming skills in Python or other relevant programming languagesDemonstrated experience in building and implementing machine learning modelsProficiency in natural language processing (NLP) and related techniquesExcellent problem-solving and analytical skillsAbility to work independently and remotely\\nPlease NoticeThis is an unpaid, part-time internship with flexible hours, ranging between 5 - 20 hours per week. As a startup in its early stages, we are unable to offer upfront salary. However, there is potential for equity compensation and stipends once we have successfully demonstrated our product and secured funding. We value the contributions of our interns and are committed to creating a rewarding learning experience.\",\n",
            "  \"job_id\": 3784120102.0,\n",
            "  \"company_name\": \"OTB English\"\n",
            "}\n",
            "Python, Deep Learning, Distributed Training, GPU Kernel Development\n",
            "{\n",
            "  \"title\": \"Senior Machine Learning Research Engineer\",\n",
            "  \"description\": \"Symbolica is building a new foundation for large-scale AI using structured, interpretable reasoning. We are expanding our team and seeking machine learning research engineers to contribute to the development of our cutting-edge code synthesis and theorem proving models. This is an opportunity to be part of a transformative project and make significant contributions to the field of AI.\\nResponsibilities:Contribute to the design and implementation of machine learning architectures and algorithms for theorem proving, code synthesis, and text generationScale prototype models up using distributed training techniquesDevelop optimized GPU kernels to maximize model performanceIdentify performance bottlenecks using benchmarking and profiling toolsDesign and implement new mechanisms for model parallelismDesign and execute experiments to guide model development process while making effective use of compute budgetDevelop tools to gain insight into model behavior via fine-grained reporting and visualizationMaintain a deep understanding of current techniques in deep learning. Understand, implement, and improve on methods described in machine learning literatureCollaborate with a team of machine learning researchers and engineers to achieve project goals\\nQualifications:Proficiency with Python deep learning libraries such as PyTorch and JAXExperience with distributed training of large scale deep learning modelsFive years of experience in non-academic machine learning engineering roles, or two years with a relevant PhDNice to have: Proficiency with GPU kernel development using CUDA or Triton\\n\\nIn-person in our Bay Area office is preferred, but we will be happy to consider exceptional candidates in other locations.\\nWe offer competitive compensation, including equity, health insurance, and 401k benefits. Salary and equity levels are commensurate with experience and location.\",\n",
            "  \"job_id\": 3848960304.0,\n",
            "  \"company_name\": \"Symbolica AI\"\n",
            "}\n",
            "Automation tools proficiency, Software development experience, AI technology knowledge\n",
            "{\n",
            "  \"description\": \"We are at the forefront of revolutionizing the media industry through technology. We are on a quest to harness the power of automation, AI, and software development to streamline our operations, enhance productivity, and reduce the reliance on manual processes. Our ideal candidate is someone who embodies innovation, efficiency, and the ability to rapidly prototype, implement, and iterate on solutions. If you are a dynamic individual who thrives in a fast-paced environment and is passionate about building futuristic systems, we want you on our team.\\nNote: This is a full-time position. You'll always be able to work remotely wherever you want, but we're planning to open an office in San Francisco, CA, in the near future for anyone who wants to work IRL. All work will be done in English.\\nResponsibilitiesLead the design and execution of automation strategies that integrate our business systems, using a mix of low-code platforms and traditional coding languagesContinuously assess and enhance workflows to improve efficiency and effectiveness, utilizing AI and machine learning technologies to automate tasks where possiblePrototype and develop applications and systems that support our vision for the future of media, staying ahead of the curve with the latest in automation and AI technologiesWork closely with cross-functional teams to identify opportunities for automation and streamline processes. Provide mentorship and guidance to team members on automation best practicesLeverage LLMs and their APIs for innovative solutions and optimizations within our ecosystem\\nQualificationsMinimum 3 years in software development, with a strong focus on automation tools like Make.comProficiency in fine-tuning LLMs and leveraging their APIs for business applicationsProven ability to thrive in fast-paced development cycles, with a penchant for quick iteration and a preference for action over perfectionA hacky mindset with a track record of developing creative and efficient solutions to complex problemsExcellent communication skills, with the ability to articulate technical concepts clearly and concisely to diverse audiences\\nBenefitsCompetitive pay (we don't pay based on location; we assign value to the role)Async operations (when possible) with the ability to work in the time zone of your choice Unlimited PTOHealth InsuranceWFH office stipendGym/Wellness stipendUnlimited book orders\\n\",\n",
            "  \"title\": \"Automation Specialist\",\n",
            "  \"company_name\": \"Web3 Recruit\",\n",
            "  \"job_id\": 3867234681.0\n",
            "}\n",
            "Problem-solving, Attention to detail, Leadership, Communication skills\n",
            "{\n",
            "  \"title\": \"Senior Robotics Engineer (Commercial Grade)\",\n",
            "  \"description\": \"Title: Senior Commercial Grade Robotics Engineer (Inventory Management)Experience: 2+ years (in relevant role)Location: Ridgewood NJ - 07450Techolution is looking for a smart and dynamic Senior Commercial Grade Robotics Engineer to lead the design, development, and implementation of cutting-edge autonomous robotic systems. The ideal candidate will have a track record of successfully building and delivering advanced robotic solutions, coupled with exceptional attention to detail, proactive thinking, and strong problem-solving skillsAs a key member of our team, you will play a crucial role in advancing our technological capabilities and delivering innovative solutions to our clients.\\nRoles and Responsibilities:Oversee the end-to-end design, development, and deployment of commercial-grade robotic systems, from concept to production, ensuring adherence to quality standards and project requirements.Design and develop advanced linear motion track systems specifically tailored for cobot applications, ensuring seamless integration and optimized performance in various industrial settings.Conduct thorough compatibility assessments to align the motion track capabilities with cobot specifications, including load capacity, speed, precision, and environmental conditions.Lead the selection and integration of industrial automation hardware, focusing on the development of robust, scalable, and efficient automation solutions.Deep understanding of industrial communication protocols (e.g., OPC UA, EtherCAT, Profinet) and how to implement them for seamless machine-to-machine communication and system interoperability.Oversee the integration of automation components into existing systems, ensuring compatibility, performance optimization, and adherence to safety and regulatory standards. Expertise in selecting high-quality industrial and commercial grade hardware components, ensuring they meet the rigorous demands of industrial applications and comply with relevant standards.Manage end-to-end manufacturing and fabrication processes, from material selection to final assembly, focusing on efficiency, cost-effectiveness, and sustainability.Conduct comprehensive testing and validation of hardware systems to ensure they perform reliably under various conditions and meet all operational requirements.Develop advanced control algorithms for robotic systems, leveraging sensors, actuators, and feedback mechanisms to achieve precise control and intelligent behavior.Ensure hardware compliance by staying abreast of industry standards and regulations, incorporating them into the design and development processes.Utilize end-to-end prototyping methods, including 3D printing, CNC machining, laser cutting, and optionally PCB fabrication and assembly.Demonstrate proficiency in mechanical design principles, encompassing joint mechanisms, Design for Assembly (DFA), and Design for Manufacturing (DFM).\\nPreferable Skills:Bachelor\\u2019s/Master\\u2019s degree in Mechanical Engineering, Electrical Engineering, Mechatronics Engineering, or related field.Proven experience in designing, developing, and deploying commercial-grade robotic systems, with a minimum of 2 years of relevant experience in a leadership capacity.Exceptional attention to detail, proactive thinking, and strong problem-solving skills, with a demonstrated ability to lead and inspire a team to achieve project objectives.Collaborate closely with cross-functional teams, including R&D, product management, and quality assurance, to align the development process with organizational goals and market needs.Stay abreast of technological advancements and industry trends to continually enhance system capabilities and introduce innovative solutions.Foster a culture of safety and continuous improvement, implementing best practices in engineering and manufacturing to achieve excellence in all project deliverables.Experience with commercial-grade robotic components, sensors, actuators, and motion systems, as well as familiarity with industry standards and regulations.Exposure in pre-sales activities, showcasing technical expertise and presenting solutions to potential clients.Excellent communication skills, with the ability to articulate technical concepts clearly and concisely to both technical and non-technical audiences.\\nAbout Techolution:Techolution is a Product Development firm on track to become one of the most admired brands in the world for \\\"innovation done right\\\". Our purpose is to harness our expertise in novel technologies to deliver more profits for our enterprise clients while helping them deliver a better human experience for the communities they serve. With that, we are now fully committed to helping our clients build the enterprise of tomorrow by making the leap from Lab Grade AI to Real World AI.We are honored to have recently received the prestigious Inc 500 Best In Business award, a testament to our commitment to excellence. While we are big enough to be trusted by some of the greatest brands in the world, we are small enough to care about delivering meaningful ROI-generating innovation at a guaranteed price for each client that we serve.\\nLet\\u2019s give you more insights!One of our amazing products with Artificial Intelligence:1. https://faceopen.com/ : Our proprietary and powerful AI Powered user identification system which is built on artificial intelligence technologies such as image recognition, deep neural networks, and robotic process automation. (No more touching keys, badges or fingerprint scanners ever again!)\\nSome videos you wanna watch!Computer Vision demo at The AI Summit New York 2023Life at TecholutionGoogleNext 2023Ai4 - Artificial Intelligence Conferences 2023WaWa - Solving Food Wastage Saving lives - Brooklyn HospitalInnovation Done Right on Google CloudTecholution featured on Worldwide Business with KathyIrelandTecholution presented by ION World\\u2019s Greatest\\nVisit us @www.techolution.com : To know more about our revolutionary core practices and getting to know in detail about how we enrich the human experience with technology.\",\n",
            "  \"company_name\": \"techolution\",\n",
            "  \"job_id\": 3884429787.0\n",
            "}\n"
          ]
        }
      ]
    },
    {
      "cell_type": "code",
      "source": [
        "client.close()"
      ],
      "metadata": {
        "id": "BWx-JPT1xwqn"
      },
      "execution_count": null,
      "outputs": []
    }
  ]
}